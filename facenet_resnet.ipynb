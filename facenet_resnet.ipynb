{
 "cells": [
  {
   "cell_type": "code",
   "execution_count": null,
   "id": "1baeeed4",
   "metadata": {},
   "outputs": [],
   "source": [
    "#### Take image and turn it into some descriptors for that image\n",
    "###def describe_image(image):\n",
    "###pass the image --- possibly reshape into into (R, C, 3)??\n",
    "###pass image turn model (instance of facenet class)\n",
    "###get boxes, probabilities, and landmarks\n",
    "##pass boxes and image through resnet and get descriptors\n",
    "##return descriptors, probabilites, and landmarks"
   ]
  },
  {
   "cell_type": "code",
   "execution_count": 49,
   "id": "7dcb2ab1",
   "metadata": {},
   "outputs": [],
   "source": [
    "from facenet_models import FacenetModel\n",
    "from pathlib import Path\n",
    "from camera import take_picture\n",
    "import matplotlib.pyplot as plt\n",
    "import numpy as np\n",
    "from PIL import Image"
   ]
  },
  {
   "cell_type": "code",
   "execution_count": 50,
   "id": "0ee26d6a",
   "metadata": {},
   "outputs": [],
   "source": [
    "photoPath = r\"C:\\Users\\tobec\\Downloads\\selenaGomez.jpg\""
   ]
  },
  {
   "cell_type": "code",
   "execution_count": 51,
   "id": "a250ddd5",
   "metadata": {},
   "outputs": [],
   "source": [
    "photo_img = Image.open(photoPath)\n",
    "img = np.asarray(photo_img)\n",
    "#img.shape"
   ]
  },
  {
   "cell_type": "code",
   "execution_count": 27,
   "id": "6881bcac",
   "metadata": {},
   "outputs": [],
   "source": [
    "#img_array = take_picture()  # returns shape-(H, W, C) array\n",
    "\n",
    "#fig,ax = plt.subplots()\n",
    "#ax.imshow(img_array)"
   ]
  },
  {
   "cell_type": "code",
   "execution_count": 52,
   "id": "2c7ec299",
   "metadata": {},
   "outputs": [],
   "source": [
    "def describe_image(image):\n",
    "    \"\"\"Takes image, reshapes it, and returns descriptors, \n",
    "    probabilites, and landmarks\n",
    "    \n",
    "    \n",
    "    Params\n",
    "    --------\n",
    "    image shape-(N, H, W, 3)\n",
    "    \n",
    "    \n",
    "    \n",
    "    Returns\n",
    "    --------\n",
    "    descriptors - np.ndarray, shape=(N, 512)\n",
    "                  The descriptor vectors, where N is the number of faces.\n",
    "                  \n",
    "    probabilities - shape-(N,)  looks like: ([%%], dtype=float)\n",
    "                    array of probabilities corresponding to each detected face\n",
    "                    \n",
    "    landmarks - shape-(N, 5) \n",
    "                arrays of facial landmarks corresponding to each detected face.\"\"\"\n",
    "    #img_reshaped = image.reshape()\n",
    "    model = FacenetModel()\n",
    "    boxes, probabilities, landmarks = model.detect(image) #model detect returns boxes, prob%%, and landmark\n",
    "    descriptors = model.compute_descriptors(image, boxes)\n",
    "    return descriptors, probabilities, landmarks"
   ]
  },
  {
   "cell_type": "code",
   "execution_count": 47,
   "id": "0c8253ff",
   "metadata": {},
   "outputs": [],
   "source": [
    "#descriptor, prob, landmarks = describe_image(img)\n",
    "#landmarks.shape\n"
   ]
  },
  {
   "cell_type": "code",
   "execution_count": null,
   "id": "04a1ef58",
   "metadata": {},
   "outputs": [],
   "source": []
  }
 ],
 "metadata": {
  "kernelspec": {
   "display_name": "Python 3",
   "language": "python",
   "name": "python3"
  },
  "language_info": {
   "codemirror_mode": {
    "name": "ipython",
    "version": 3
   },
   "file_extension": ".py",
   "mimetype": "text/x-python",
   "name": "python",
   "nbconvert_exporter": "python",
   "pygments_lexer": "ipython3",
   "version": "3.8.10"
  }
 },
 "nbformat": 4,
 "nbformat_minor": 5
}
